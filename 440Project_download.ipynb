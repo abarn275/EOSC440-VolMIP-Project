{
 "cells": [
  {
   "cell_type": "code",
   "execution_count": 1,
   "metadata": {},
   "outputs": [],
   "source": [
    "# Import needed library\n",
    "import xarray as xr"
   ]
  },
  {
   "cell_type": "markdown",
   "metadata": {},
   "source": [
    "### Load in Model volc-pinatubo-full data from ESGF CMIP6 Data Archive\n",
    "- CanESM\n",
    "- MIROC ES2L\n",
    "- UKESM1-0-LL"
   ]
  },
  {
   "cell_type": "code",
   "execution_count": null,
   "metadata": {},
   "outputs": [],
   "source": [
    "#Load CCCma Model\n",
    "\n",
    "members = [\"r10i1p2f1\", \"r11i1p2f1\", \"r12i1p2f1\", \"r13i1p2f1\", \"r14i1p2f1\", 'r15i1p2f1', 'r16i1p2f1', 'r17i1p2f1', \"r18i1p2f1\", 'r19i1p2f1',\n",
    "           \"r1i1p2f1\", \"r20i1p2f1\", \"r21i1p2f1\", \"r22i1p2f1\", \"r23i1p2f1\", \"r24i1p2f1\", \"r25i1p2f1\", \"r26i1p2f1\", \"r27i1p2f1\", \"r28i1p2f1\",\n",
    "           \"r29i1p2f1\", \"r2i1p2f1\", \"r30i1p2f1\", \"r31i1p2f1\", \"r32i1p2f1\", \"r33i1p2f1\", \"r34i1p2f1\", \"r35i1p2f1\", \"r36i1p2f1\", \"r37i1p2f1\",\n",
    "           \"r38i1p2f1\", \"r39i1p2f1\", \"r3i1p2f1\", \"r40i1p2f1\", \"r4i1p2f1\", \"r5i1p2f1\", \"r6i1p2f1\", \"r7i1p2f1\", \"r8i1p2f1\", \"r9i1p2f1\"]\n",
    "CCCma_stem = \"http://crd-esgf-drc.ec.gc.ca/thredds/dodsC/esgH_dataroot/AR6/CMIP6/VolMIP/CCCma/CanESM5/volc-pinatubo-full/\"\n",
    "CCCma_mid = \"/Amon/tas/gn/v20190429/tas_Amon_CanESM5_volc-pinatubo-full_\" \n",
    "CCCma_end = \"_gn_199106-199605.nc\"\n",
    "\n",
    "CCCma_dict = {}\n",
    "\n",
    "for member in members:\n",
    "    filename = CCCma_stem + member + CCCma_mid + member + CCCma_end\n",
    "    print(\"opening \",filename)\n",
    "    infile = xr.open_dataset(filename)\n",
    "    CCCma_dict[member] = infile.tas"
   ]
  },
  {
   "cell_type": "code",
   "execution_count": null,
   "metadata": {},
   "outputs": [],
   "source": [
    "#Load MIROC Model\n",
    "\n",
    "members  = [\"r10i1p1f2\", \"r11i1p1f2\", \"r12i1p1f2\", \"r13i1p1f2\", \"r14i1p1f2\", \"r15i1p1f2\", \"r16i1p1f2\", \"r17i1p1f2\", \"r18i1p1f2\",\n",
    "             \"r19i1p1f2\", \"r1i1p1f2\", \"r20i1p1f2\", \"r21i1p1f2\", \"r22i1p1f2\", \"r23i1p1f2\", \"r24i1p1f2\", \"r25i1p1f2\", \"r2i1p1f2\", \n",
    "             \"r3i1p1f2\", \"r4i1p1f2\", \"r5i1p1f2\", \"r6i1p1f2\", \"r7i1p1f2\", \"r8i1p1f2\", \"r9i1p1f2\"]\n",
    "\n",
    "MIROC_stem = \"http://esgf-data02.diasjp.net/thredds/dodsC/esg_dataroot/CMIP6/VolMIP/MIROC/MIROC-ES2L/volc-pinatubo-full/\"\n",
    "MIROC_mid = \"/Amon/tas/gn/v20210118/tas_Amon_MIROC-ES2L_volc-pinatubo-full_\"\n",
    "MIROC_end = \"_gn_185006-185312.nc\"\n",
    "\n",
    "MIROC_dict = {}\n",
    "\n",
    "for member in members:\n",
    "    filename = MIROC_stem + member + MIROC_mid + member + MIROC_end\n",
    "    print(\"opening \",filename)\n",
    "    infile = xr.open_dataset(filename)\n",
    "    MIROC_dict[member] = infile.tas"
   ]
  },
  {
   "cell_type": "code",
   "execution_count": null,
   "metadata": {},
   "outputs": [],
   "source": [
    "# Load UKESM model\n",
    "\n",
    "members = [\"r10i1p1f2\", \"r11i1p1f2\",  \"r13i1p1f2\", \"r14i1p1f2\", \"r15i1p1f2\", \"r16i1p1f2\", \"r17i1p1f2\", \"r18i1p1f2\", \"r19i1p1f2\",\n",
    "           \"r20i1p1f2\", \"r21i1p1f2\", \"r22i1p1f2\", \"r24i1p1f2\", \"r25i1p1f2\", \"r26i1p1f2\", \"r27i1p1f2\", \"r2i1p1f2\",\n",
    "           \"r3i1p1f2\", \"r4i1p1f2\", \"r5i1p1f2\", \"r6i1p1f2\", \"r7i1p1f2\", \"r8i1p1f2\", \"r9i1p1f2\",]\n",
    "\n",
    "member2 = \"r12i1p1f2\" #these members have different version numbers\n",
    "member3 = \"r1i1p1f2\" \n",
    "member4 = \"r23i1p1f2\"\n",
    "\n",
    "UKESM_stem = \"https://dap.ceda.ac.uk/thredds/dodsC/badc/cmip6/data/CMIP6/VolMIP/NERC/UKESM1-0-LL/volc-pinatubo-full/\"\n",
    "UKESM_mid1 = \"/Amon/tas/gn/files/\" \n",
    "UKESM_mid2 = \"/tas_Amon_UKESM1-0-LL_volc-pinatubo-full_\"\n",
    "UKESM_end = \"_gn_199106-199406.nc\"\n",
    "version1 = \"d20230810\"\n",
    "version2 = \"d20231129\"\n",
    "version3 = \"d20230728\"\n",
    "version4 = \"d20231202\"\n",
    "\n",
    "UKESM_dict = {}\n",
    "\n",
    "for member in members:\n",
    "    filename = UKESM_stem + member + UKESM_mid1 + version1 + UKESM_mid2 + member + UKESM_end\n",
    "    print(\"opening \",filename)\n",
    "    infile = xr.open_dataset(filename)\n",
    "    UKESM_dict[member] = infile.tas\n",
    "\n",
    "filename = UKESM_stem + member2 + UKESM_mid1 + version2 + UKESM_mid2 + member2 + UKESM_end\n",
    "\n",
    "infile = xr.open_dataset(filename)\n",
    "UKESM_dict[member2] = infile.tas\n",
    "\n",
    "filename = UKESM_stem + member3 + UKESM_mid1 + version3 + UKESM_mid2 + member3 + UKESM_end\n",
    "print(\"opening \",filename)\n",
    "infile = xr.open_dataset(filename)\n",
    "UKESM_dict[member3] = infile.tas\n",
    "\n",
    "filename = UKESM_stem + member4 + UKESM_mid1 + version4 + UKESM_mid2 + member4 + UKESM_end\n",
    "print(\"opening \",filename)\n",
    "infile = xr.open_dataset(filename)\n",
    "UKESM_dict[member4] = infile.tas"
   ]
  },
  {
   "cell_type": "markdown",
   "metadata": {},
   "source": [
    "### Make Output dictionary into Xarray dataset\n",
    "Each ensemble member a coordinate in dataset"
   ]
  },
  {
   "cell_type": "code",
   "execution_count": null,
   "metadata": {},
   "outputs": [],
   "source": [
    "variables = {k: xr.DataArray(v, dims=['time', 'lat', \"lon\"])\n",
    "             for k, v in CCCma_dict.items()}\n",
    "CCCma_ds_new = xr.Dataset(variables).to_array(dim='member')\n",
    "print(CCCma_ds_new)"
   ]
  },
  {
   "cell_type": "code",
   "execution_count": null,
   "metadata": {},
   "outputs": [],
   "source": [
    "variables = {k: xr.DataArray(v, dims=['time', 'lat', \"lon\"])\n",
    "             for k, v in MIROC_dict.items()}\n",
    "MIROC_ds_new = xr.Dataset(variables).to_array(dim='member')\n",
    "print(MIROC_ds_new)"
   ]
  },
  {
   "cell_type": "code",
   "execution_count": null,
   "metadata": {},
   "outputs": [],
   "source": [
    "variables = {k: xr.DataArray(v, dims=['time', 'lat', \"lon\"])\n",
    "             for k, v in UKESM_dict.items()}\n",
    "UKESM_ds_new = xr.Dataset(variables).to_array(dim='member')\n",
    "print(UKESM_ds_new)"
   ]
  },
  {
   "cell_type": "code",
   "execution_count": 9,
   "metadata": {},
   "outputs": [],
   "source": [
    "write_it = False\n",
    "if write_it:\n",
    "    xr.backends.file_manager.FILE_CACHE.clear()\n",
    "    CCCma_ds_new.to_netcdf(\"Data/CCCma.nc\",\"w\")\n",
    "    MIROC_ds_new.to_netcdf(\"Data/MIROC.nc\",\"w\")\n",
    "    UKESM_ds_new.to_netcdf(\"Data/UKESM.nc\",'w')\n"
   ]
  },
  {
   "cell_type": "markdown",
   "metadata": {},
   "source": [
    "### Load in PiControl models\n",
    "Used to create a climatology for each model to calculate a temperature anomaly"
   ]
  },
  {
   "cell_type": "code",
   "execution_count": null,
   "metadata": {},
   "outputs": [],
   "source": [
    "CCCmaPi_url = \"http://crd-esgf-drc.ec.gc.ca/thredds/dodsC/esgA_dataroot/AR6/CMIP6/CMIP/CCCma/CanESM5/piControl-cmip5/r1i1p1f1/Amon/tas/gn/v20190429/tas_Amon_CanESM5_piControl-cmip5_r1i1p1f1_gn_540101-560012.nc\"\n",
    "print(\"opening \"+ CCCmaPi_url)\n",
    "CCCmaPi = xr.open_dataset(CCCmaPi_url)\n",
    "\n",
    "MIROCPi_url = \"http://esgf-data02.diasjp.net/thredds/dodsC/esg_dataroot/CMIP6/CMIP/MIROC/MIROC-ES2L/piControl/r1i1p1f2/Amon/tas/gn/v20190823/tas_Amon_MIROC-ES2L_piControl_r1i1p1f2_gn_185001-204912.nc\"\n",
    "print(\"opening \"+ MIROCPi_url)\n",
    "MIROCPi = xr.open_dataset(MIROCPi_url)\n",
    "\n",
    "UKESMPi_url = \"https://esgf.ceda.ac.uk/thredds/dodsC/esg_cmip6/CMIP6/CMIP/MOHC/UKESM1-0-LL/piControl/r1i1p1f2/Amon/tas/gn/v20200828/tas_Amon_UKESM1-0-LL_piControl_r1i1p1f2_gn_245001-254912.nc\"\n",
    "print(\"opening \"+ UKESMPi_url)\n",
    "UKESMPi = xr.open_dataset(UKESMPi_url)\n",
    "\n",
    "write_it = False\n",
    "if write_it:\n",
    "    xr.backends.file_manager.FILE_CACHE.clear()\n",
    "    CCCmaPi.to_netcdf(\"Data/CCCmaPi.nc\",\"w\",format=\"NETCDF4_CLASSIC\")\n",
    "    print(\"downloaded \"+CCCmaPi_url)\n",
    "    MIROCPi.to_netcdf(\"Data/MIROCPi.nc\",\"w\",format=\"NETCDF4_CLASSIC\")\n",
    "    print(\"downloaded \"+MIROCPi_url)\n",
    "    UKESMPi.to_netcdf(\"Data/UKESMPi.nc\",'w',format=\"NETCDF4_CLASSIC\")\n",
    "    print(\"downloaded \"+UKESMPi_url)"
   ]
  },
  {
   "cell_type": "markdown",
   "metadata": {},
   "source": [
    "### Load in NCEP Reanalysis Data"
   ]
  },
  {
   "cell_type": "code",
   "execution_count": null,
   "metadata": {},
   "outputs": [],
   "source": [
    "##  daily surface temperature from  NCEP reanalysis\n",
    "ncep_url = \"https://psl.noaa.gov/thredds/dodsC/Datasets/ncep.reanalysis/Monthlies/surface_gauss/air.2m.mon.mean.nc\"\n",
    "print(\"opening \" + ncep_url)\n",
    "ncep_temp = xr.open_dataset(ncep_url)\n",
    "\n",
    "write_it = False\n",
    "if write_it:\n",
    "    #xr.backends.file_manager.FILE_CACHE.clear()\n",
    "    ncep_temp.to_netcdf(\"Data/ncep_temp.nc\",\"w\",format=\"NETCDF3_CLASSIC\")\n",
    "    print(\"downloaded \"+ncep_url)"
   ]
  },
  {
   "cell_type": "code",
   "execution_count": null,
   "metadata": {},
   "outputs": [],
   "source": []
  }
 ],
 "metadata": {
  "kernelspec": {
   "display_name": "e440",
   "language": "python",
   "name": "python3"
  },
  "language_info": {
   "codemirror_mode": {
    "name": "ipython",
    "version": 3
   },
   "file_extension": ".py",
   "mimetype": "text/x-python",
   "name": "python",
   "nbconvert_exporter": "python",
   "pygments_lexer": "ipython3",
   "version": "3.10.13"
  }
 },
 "nbformat": 4,
 "nbformat_minor": 2
}
